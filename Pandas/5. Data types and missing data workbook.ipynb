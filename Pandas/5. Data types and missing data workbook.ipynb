{
 "cells": [
  {
   "cell_type": "markdown",
   "metadata": {
    "_uuid": "c68eb520e47a925830fab43141bd4ee6a584faa5"
   },
   "source": [
    "**[Pandas Course Home Page](https://www.kaggle.com/learn/pandas)**\n",
    "\n",
    "---\n"
   ]
  },
  {
   "cell_type": "markdown",
   "metadata": {
    "_uuid": "e9d941bd4319a549916a9bb3899126630bb7f8c0",
    "collapsed": true
   },
   "source": [
    "# Data types and missing data workbook\n",
    "\n",
    "## Introduction\n",
    "\n",
    "This is the workbook component of the \"Data types and missing data\" section of the tutorial.\n",
    "\n",
    "# Relevant Resources\n",
    "- [Data Types and Missing Data Reference](https://www.kaggle.com/residentmario/data-types-and-missing-data-reference)\n",
    "\n",
    "# Set Up\n",
    "\n",
    "Run the following cell to load your data and some utility functions."
   ]
  },
  {
   "cell_type": "code",
   "execution_count": 1,
   "metadata": {
    "_uuid": "474702aeb71fd0708e81c55d1517c1a598965bec"
   },
   "outputs": [
    {
     "data": {
      "text/html": [
       "<div>\n",
       "<style scoped>\n",
       "    .dataframe tbody tr th:only-of-type {\n",
       "        vertical-align: middle;\n",
       "    }\n",
       "\n",
       "    .dataframe tbody tr th {\n",
       "        vertical-align: top;\n",
       "    }\n",
       "\n",
       "    .dataframe thead th {\n",
       "        text-align: right;\n",
       "    }\n",
       "</style>\n",
       "<table border=\"1\" class=\"dataframe\">\n",
       "  <thead>\n",
       "    <tr style=\"text-align: right;\">\n",
       "      <th></th>\n",
       "      <th>country</th>\n",
       "      <th>description</th>\n",
       "      <th>designation</th>\n",
       "      <th>points</th>\n",
       "      <th>price</th>\n",
       "      <th>province</th>\n",
       "      <th>region_1</th>\n",
       "      <th>region_2</th>\n",
       "      <th>taster_name</th>\n",
       "      <th>taster_twitter_handle</th>\n",
       "      <th>title</th>\n",
       "      <th>variety</th>\n",
       "      <th>winery</th>\n",
       "    </tr>\n",
       "  </thead>\n",
       "  <tbody>\n",
       "    <tr>\n",
       "      <th>0</th>\n",
       "      <td>Italy</td>\n",
       "      <td>Aromas include tropical fruit, broom, brimston...</td>\n",
       "      <td>Vulkà Bianco</td>\n",
       "      <td>87</td>\n",
       "      <td>NaN</td>\n",
       "      <td>Sicily &amp; Sardinia</td>\n",
       "      <td>Etna</td>\n",
       "      <td>NaN</td>\n",
       "      <td>Kerin O’Keefe</td>\n",
       "      <td>@kerinokeefe</td>\n",
       "      <td>Nicosia 2013 Vulkà Bianco  (Etna)</td>\n",
       "      <td>White Blend</td>\n",
       "      <td>Nicosia</td>\n",
       "    </tr>\n",
       "    <tr>\n",
       "      <th>1</th>\n",
       "      <td>Portugal</td>\n",
       "      <td>This is ripe and fruity, a wine that is smooth...</td>\n",
       "      <td>Avidagos</td>\n",
       "      <td>87</td>\n",
       "      <td>15.0</td>\n",
       "      <td>Douro</td>\n",
       "      <td>NaN</td>\n",
       "      <td>NaN</td>\n",
       "      <td>Roger Voss</td>\n",
       "      <td>@vossroger</td>\n",
       "      <td>Quinta dos Avidagos 2011 Avidagos Red (Douro)</td>\n",
       "      <td>Portuguese Red</td>\n",
       "      <td>Quinta dos Avidagos</td>\n",
       "    </tr>\n",
       "    <tr>\n",
       "      <th>2</th>\n",
       "      <td>US</td>\n",
       "      <td>Tart and snappy, the flavors of lime flesh and...</td>\n",
       "      <td>NaN</td>\n",
       "      <td>87</td>\n",
       "      <td>14.0</td>\n",
       "      <td>Oregon</td>\n",
       "      <td>Willamette Valley</td>\n",
       "      <td>Willamette Valley</td>\n",
       "      <td>Paul Gregutt</td>\n",
       "      <td>@paulgwine</td>\n",
       "      <td>Rainstorm 2013 Pinot Gris (Willamette Valley)</td>\n",
       "      <td>Pinot Gris</td>\n",
       "      <td>Rainstorm</td>\n",
       "    </tr>\n",
       "    <tr>\n",
       "      <th>3</th>\n",
       "      <td>US</td>\n",
       "      <td>Pineapple rind, lemon pith and orange blossom ...</td>\n",
       "      <td>Reserve Late Harvest</td>\n",
       "      <td>87</td>\n",
       "      <td>13.0</td>\n",
       "      <td>Michigan</td>\n",
       "      <td>Lake Michigan Shore</td>\n",
       "      <td>NaN</td>\n",
       "      <td>Alexander Peartree</td>\n",
       "      <td>NaN</td>\n",
       "      <td>St. Julian 2013 Reserve Late Harvest Riesling ...</td>\n",
       "      <td>Riesling</td>\n",
       "      <td>St. Julian</td>\n",
       "    </tr>\n",
       "    <tr>\n",
       "      <th>4</th>\n",
       "      <td>US</td>\n",
       "      <td>Much like the regular bottling from 2012, this...</td>\n",
       "      <td>Vintner's Reserve Wild Child Block</td>\n",
       "      <td>87</td>\n",
       "      <td>65.0</td>\n",
       "      <td>Oregon</td>\n",
       "      <td>Willamette Valley</td>\n",
       "      <td>Willamette Valley</td>\n",
       "      <td>Paul Gregutt</td>\n",
       "      <td>@paulgwine</td>\n",
       "      <td>Sweet Cheeks 2012 Vintner's Reserve Wild Child...</td>\n",
       "      <td>Pinot Noir</td>\n",
       "      <td>Sweet Cheeks</td>\n",
       "    </tr>\n",
       "  </tbody>\n",
       "</table>\n",
       "</div>"
      ],
      "text/plain": [
       "    country                                        description  \\\n",
       "0     Italy  Aromas include tropical fruit, broom, brimston...   \n",
       "1  Portugal  This is ripe and fruity, a wine that is smooth...   \n",
       "2        US  Tart and snappy, the flavors of lime flesh and...   \n",
       "3        US  Pineapple rind, lemon pith and orange blossom ...   \n",
       "4        US  Much like the regular bottling from 2012, this...   \n",
       "\n",
       "                          designation  points  price           province  \\\n",
       "0                        Vulkà Bianco      87    NaN  Sicily & Sardinia   \n",
       "1                            Avidagos      87   15.0              Douro   \n",
       "2                                 NaN      87   14.0             Oregon   \n",
       "3                Reserve Late Harvest      87   13.0           Michigan   \n",
       "4  Vintner's Reserve Wild Child Block      87   65.0             Oregon   \n",
       "\n",
       "              region_1           region_2         taster_name  \\\n",
       "0                 Etna                NaN       Kerin O’Keefe   \n",
       "1                  NaN                NaN          Roger Voss   \n",
       "2    Willamette Valley  Willamette Valley        Paul Gregutt   \n",
       "3  Lake Michigan Shore                NaN  Alexander Peartree   \n",
       "4    Willamette Valley  Willamette Valley        Paul Gregutt   \n",
       "\n",
       "  taster_twitter_handle                                              title  \\\n",
       "0          @kerinokeefe                  Nicosia 2013 Vulkà Bianco  (Etna)   \n",
       "1            @vossroger      Quinta dos Avidagos 2011 Avidagos Red (Douro)   \n",
       "2           @paulgwine       Rainstorm 2013 Pinot Gris (Willamette Valley)   \n",
       "3                   NaN  St. Julian 2013 Reserve Late Harvest Riesling ...   \n",
       "4           @paulgwine   Sweet Cheeks 2012 Vintner's Reserve Wild Child...   \n",
       "\n",
       "          variety               winery  \n",
       "0     White Blend              Nicosia  \n",
       "1  Portuguese Red  Quinta dos Avidagos  \n",
       "2      Pinot Gris            Rainstorm  \n",
       "3        Riesling           St. Julian  \n",
       "4      Pinot Noir         Sweet Cheeks  "
      ]
     },
     "execution_count": 1,
     "metadata": {},
     "output_type": "execute_result"
    }
   ],
   "source": [
    "import pandas as pd\n",
    "\n",
    "reviews = pd.read_csv(\"winemag-data-130k-v2.csv\", index_col=0)\n",
    "reviews.head()"
   ]
  },
  {
   "cell_type": "markdown",
   "metadata": {
    "_uuid": "09b468087a877dbcc7803308a52df3a42bad94f4"
   },
   "source": [
    "# Exercises"
   ]
  },
  {
   "cell_type": "markdown",
   "metadata": {
    "_uuid": "b35290052f47c8bb5f3522ea339acfa5fd621fca"
   },
   "source": [
    "## 1. \n",
    "What is the data type of the `points` column in the dataset?"
   ]
  },
  {
   "cell_type": "code",
   "execution_count": 5,
   "metadata": {
    "_uuid": "4a562c779545baf4420c8dccd2b925e2cd28d52c"
   },
   "outputs": [
    {
     "name": "stdout",
     "output_type": "stream",
     "text": [
      "int64\n",
      "<class 'pandas.core.series.Series'>\n"
     ]
    }
   ],
   "source": [
    "# Your code here\n",
    "points_dtype = reviews.points.dtype\n",
    "points_type = type(reviews.points)\n",
    "\n",
    "print(points_dtype)\n",
    "print(points_type)"
   ]
  },
  {
   "cell_type": "markdown",
   "metadata": {
    "_uuid": "835acea4558e207672ef6b41e10b4296f6f6008d"
   },
   "source": [
    "## 2. \n",
    "Create a `Series` from entries in the `points` column, but convert the entries to strings. Hint: strings are `str` in native Python."
   ]
  },
  {
   "cell_type": "code",
   "execution_count": 11,
   "metadata": {
    "_uuid": "857c7566e63a03eab69820d31080c9edad949110"
   },
   "outputs": [],
   "source": [
    "point_strings = reviews.points.astype(str)"
   ]
  },
  {
   "cell_type": "markdown",
   "metadata": {
    "_uuid": "5aec82701254e90f233585d65929c2886310290c"
   },
   "source": [
    "## 3.\n",
    "Sometimes the price column is null. How many reviews in the dataset are missing a price?"
   ]
  },
  {
   "cell_type": "code",
   "execution_count": 12,
   "metadata": {
    "_uuid": "3aa4200b417cd830f6997c9271c1cd81a2529263"
   },
   "outputs": [
    {
     "data": {
      "text/plain": [
       "8996"
      ]
     },
     "execution_count": 12,
     "metadata": {},
     "output_type": "execute_result"
    }
   ],
   "source": [
    "\"\"\"\n",
    "\n",
    "missing_price_reviews = reviews[reviews.price.isnull()]\n",
    "n_missing_prices = len(missing_price_reviews)\n",
    "\n",
    "\"\"\"\n",
    "\n",
    "n_missing_prices = reviews.price.isnull().sum()\n",
    "\n",
    "n_missing_prices"
   ]
  },
  {
   "cell_type": "markdown",
   "metadata": {
    "_uuid": "83416c31a6985cd69f0b60e6f45120bbea3fb28f"
   },
   "source": [
    "## 4.\n",
    "What are the most common wine-producing regions? Create a `Series` counting the number of times each value occurs in the `region_1` field. This field is often missing data, so replace missing values with `Unknown`. Sort in descending order.  Your output should look something like this:\n",
    "\n",
    "```\n",
    "Unknown                    21247\n",
    "Napa Valley                 4480\n",
    "                           ...  \n",
    "Bardolino Superiore            1\n",
    "Primitivo del Tarantino        1\n",
    "Name: region_1, Length: 1230, dtype: int64\n",
    "```"
   ]
  },
  {
   "cell_type": "code",
   "execution_count": 24,
   "metadata": {
    "_uuid": "acab4384123e2ecc085db83d5f60c611516a6518"
   },
   "outputs": [
    {
     "data": {
      "text/plain": [
       "UnKnown                                     21247\n",
       "Napa Valley                                  4480\n",
       "Columbia Valley (WA)                         4124\n",
       "Russian River Valley                         3091\n",
       "California                                   2629\n",
       "Paso Robles                                  2350\n",
       "Mendoza                                      2301\n",
       "Willamette Valley                            2301\n",
       "Alsace                                       2163\n",
       "Champagne                                    1613\n",
       "Barolo                                       1599\n",
       "Finger Lakes                                 1565\n",
       "Sonoma Coast                                 1474\n",
       "Brunello di Montalcino                       1470\n",
       "Rioja                                        1469\n",
       "Sonoma County                                1246\n",
       "Toscana                                      1197\n",
       "Walla Walla Valley (WA)                      1066\n",
       "Chianti Classico                             1062\n",
       "Santa Barbara County                         1000\n",
       "Carneros                                      999\n",
       "Yakima Valley                                 997\n",
       "Sta. Rita Hills                               975\n",
       "Dry Creek Valley                              939\n",
       "Sicilia                                       925\n",
       "Côtes de Provence                             859\n",
       "Santa Ynez Valley                             812\n",
       "Santa Lucia Highlands                         806\n",
       "Lodi                                          803\n",
       "Barbaresco                                    794\n",
       "                                            ...  \n",
       "Coteaux d'Ancenis                               1\n",
       "San Martino della Battaglia                     1\n",
       "Valpolicella Valpantena Superiore               1\n",
       "Gippsland                                       1\n",
       "Sovana                                          1\n",
       "Napa-Monterey-Mendocino                         1\n",
       "Maury Sec                                       1\n",
       "Lambrusco Salamino di Santa Croce               1\n",
       "Vin de Pays de la Haute Vallée du Gassac        1\n",
       "Squinzano                                       1\n",
       "Corton Perrières                                1\n",
       "Château-Chalon                                  1\n",
       "Saint-Chinian-Roquebrun                         1\n",
       "Canada                                          1\n",
       "Mendocino-Amador                                1\n",
       "Napa-Sonoma-Marin                               1\n",
       "Barossa-Langhorne Creek                         1\n",
       "Criots-Bâtard-Montrachet                        1\n",
       "Rosso di Cerignola                              1\n",
       "Colline Teramane                                1\n",
       "Cacc’e Mmitte di Lucera                         1\n",
       "McLaren Vale-Padthaway                          1\n",
       "Assisi                                          1\n",
       "Del Veneto                                      1\n",
       "Dolcetto d'Alba Superiore                       1\n",
       "Monterey-San Luis Obispo-Santa Barbara          1\n",
       "Geelong                                         1\n",
       "Côtes de Montravel                              1\n",
       "Côtes du Roussillon Les Aspres                  1\n",
       "Lake-Sonoma-Napa                                1\n",
       "Name: region_1, Length: 1230, dtype: int64"
      ]
     },
     "execution_count": 24,
     "metadata": {},
     "output_type": "execute_result"
    }
   ],
   "source": [
    "reviews_per_region = reviews.region_1.fillna('UnKnown').value_counts().sort_values(ascending=False)\n",
    "reviews_per_region"
   ]
  },
  {
   "cell_type": "markdown",
   "metadata": {
    "_uuid": "113c8b66fcc32a9e13990ed0ea2f05c7ba313938"
   },
   "source": [
    "# Keep going\n",
    "Move on to the **[Renaming and combining workbook](https://www.kaggle.com/kernels/fork/638064)**."
   ]
  },
  {
   "cell_type": "markdown",
   "metadata": {
    "_uuid": "8f619d931e92c24062150b290472fe941419003f"
   },
   "source": [
    "---\n",
    "**[Pandas Course Home Page](https://www.kaggle.com/learn/pandas)**\n",
    "\n"
   ]
  }
 ],
 "metadata": {
  "kernelspec": {
   "display_name": "Python 3",
   "language": "python",
   "name": "python3"
  },
  "language_info": {
   "codemirror_mode": {
    "name": "ipython",
    "version": 3
   },
   "file_extension": ".py",
   "mimetype": "text/x-python",
   "name": "python",
   "nbconvert_exporter": "python",
   "pygments_lexer": "ipython3",
   "version": "3.6.4"
  }
 },
 "nbformat": 4,
 "nbformat_minor": 1
}
